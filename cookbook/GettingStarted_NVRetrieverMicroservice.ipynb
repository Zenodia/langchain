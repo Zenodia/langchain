{
 "cells": [
  {
   "cell_type": "markdown",
   "id": "ae57a744",
   "metadata": {},
   "source": [
    "# This notebook shows how to use Nvidia Retriever Microservices as a LangChain retriever.\n",
    "Note, for this notebook to run, you will have to spin up the NVIDIA Retriever Microservices by following the instruction from this [gitlab repo ](https://gitlab-master.nvidia.com/dl/ai-services/microservices/retrieval/-/blob/main/docs/developer_getting_started.md)\n",
    "\n",
    "referring to https://python.langchain.com/docs/integrations/retrievers/weaviate-hybrid"
   ]
  },
  {
   "cell_type": "markdown",
   "id": "6d42f55f",
   "metadata": {},
   "source": [
    "## first , we will initiate the NvidiaRetrieverMicroservice "
   ]
  },
  {
   "cell_type": "code",
   "execution_count": 30,
   "id": "d99d2fb9",
   "metadata": {},
   "outputs": [],
   "source": [
    "import langchain_community\n",
    "from langchain_community.retrievers.nv_retriever_microservices import NvidiaRetrieverMicroservice\n",
    "# pipeline to choose from : dense_pgvector, dense_milvus, dense_elasticsearch , test_dense_milvus_random\n",
    "collection_name=\"test1\"\n",
    "pipeline=\"dense_pgvector\"\n",
    "endpoint_url='http://localhost:1984/v1/collections'\n",
    "collection_id='abc' # we give a dummy id for initialization, we will get a real collection_id once the service is successfully intialized \n",
    "NVretriever=NvidiaRetrieverMicroservice(collection_name,pipeline,endpoint_url, collection_id)\n"
   ]
  },
  {
   "cell_type": "code",
   "execution_count": 34,
   "id": "5afd5523",
   "metadata": {},
   "outputs": [
    {
     "data": {
      "text/plain": [
       "'badc5da6-e57c-4e08-acb0-e7c7291aaa36'"
      ]
     },
     "execution_count": 34,
     "metadata": {},
     "output_type": "execute_result"
    }
   ],
   "source": [
    "NVretriever.collection_id\n"
   ]
  },
  {
   "cell_type": "markdown",
   "id": "2112eb21",
   "metadata": {},
   "source": [
    "## then we will set up a specific DocumentLoader which will allow us to access each file path"
   ]
  },
  {
   "cell_type": "code",
   "execution_count": 31,
   "id": "b092f419",
   "metadata": {},
   "outputs": [],
   "source": [
    "from langchain_community.document_loaders.filepathloader import BasicFilePathLoader\n",
    "folder_dir=\"/workspace/data/\"\n",
    "loader=BasicFilePathLoader(folder_dir)"
   ]
  },
  {
   "cell_type": "code",
   "execution_count": 33,
   "id": "30671de2",
   "metadata": {},
   "outputs": [
    {
     "name": "stdout",
     "output_type": "stream",
     "text": [
      "Sweden.txt {'source': '/workspace/data/Sweden.txt'}\n",
      "Titanic_film.txt {'source': '/workspace/data/Titanic_film.txt'}\n"
     ]
    }
   ],
   "source": [
    "docs=loader.load()\n",
    "for doc in docs:\n",
    "    print(doc.page_content, doc.metadata)"
   ]
  },
  {
   "cell_type": "markdown",
   "id": "57846f99",
   "metadata": {},
   "source": [
    "## we then upload these documents to Nvidia Retriever Microservices"
   ]
  },
  {
   "cell_type": "code",
   "execution_count": 20,
   "id": "3e0714a4",
   "metadata": {},
   "outputs": [
    {
     "name": "stdout",
     "output_type": "stream",
     "text": [
      "<class 'int'>\n",
      "<class 'int'>\n"
     ]
    },
    {
     "data": {
      "text/plain": [
       "['46f2d7e8886a32c23f2a95284bd7147f194daa184973202dcdf5168f011caa16',\n",
       " '536174152c9874cef428dc503280a64af9f002db48130ec19443ccaf46a03e24']"
      ]
     },
     "execution_count": 20,
     "metadata": {},
     "output_type": "execute_result"
    }
   ],
   "source": [
    "NVretriever.add_documents(docs)"
   ]
  },
  {
   "cell_type": "markdown",
   "id": "2a8e8e1d",
   "metadata": {},
   "source": [
    "## then we are ready to query "
   ]
  },
  {
   "cell_type": "code",
   "execution_count": 26,
   "id": "de8defa2",
   "metadata": {},
   "outputs": [
    {
     "name": "stdout",
     "output_type": "stream",
     "text": [
      "200 <class 'int'>\n"
     ]
    }
   ],
   "source": [
    "out=NVretriever.get_relevant_documents(\"who directed the film Titanic?\")"
   ]
  },
  {
   "cell_type": "code",
   "execution_count": null,
   "id": "6bcc9839",
   "metadata": {},
   "outputs": [],
   "source": []
  },
  {
   "cell_type": "markdown",
   "id": "cf140c37",
   "metadata": {},
   "source": [
    "## note that score is contained in metadata by default, you can adjust filtering using score threshold"
   ]
  },
  {
   "cell_type": "code",
   "execution_count": 29,
   "id": "92e4b150",
   "metadata": {},
   "outputs": [
    {
     "name": "stdout",
     "output_type": "stream",
     "text": [
      "sheer scale and tragedy\" and that \"when you consider that [the film] tops a bum-numbing three-hour running time, then you have a truly impressive feat of entertainment achieved by Cameron\". Empire eventually reinstated its original five-star rating of the film, commenting: \"It should be no surprise[,] then[,] that it became fashionable to bash James Cameron's Titanic at approximately the same time it became clear that this was the planet's favourite film. Ever.\"In 2017, on the 20th anniversary of its release, the film was selected for preservation in the United States National Film Registry by the Library of Congress as being \"culturally, historically, or aesthetically significant\". It was listed among the 100 best films in an Empire poll and in a later poll of members of the film industry. In 2021, Dalin Rowell of /Film ranked it the third-best film of Cameron's career, stating that it is \"easily one of his best films, simply because it defied the odds\", and considering it \"a legitimately remarkable achievement — one that, despite its large budget, has a humble, earnest center. Even with all of the jokes the Internet loves to throw its way, Titanic demonstrates that Cameron is truly capable of everything he can imagine.\"\n",
      "\n",
      "\n",
      "== Accolades ==\n",
      "\n",
      "Titanic began its awards sweep starting with the Golden Globes, winning four: Best Motion Picture – Drama, Best Director, Best Original Score, and Best Original Song. Kate Winslet and Gloria Stuart were also nominees. The film garnered fourteen Academy Award nominations, tying the record set in 1950 \n",
      "............................................................\n",
      "released on Blu-ray and Blu-ray 3D on September 10, 2012. The 3D presentation of the film is split over two discs and is also THX-certified. Special features on another disc included many of those featured on the 2005 Special Collector's Edition DVD along with two new documentaries titled \"Reflections on Titanic\" and \"Titanic: The Final Word with James Cameron.\" The latter aired on National Geographic on April 9, 2012 and was executively produced by Cameron.\n",
      "\n",
      "\n",
      "== Re-releases ==\n",
      "\n",
      "\n",
      "=== 3D conversion ===\n",
      "A 2012 3D re-release was created by re-mastering the original to 4K resolution and post-converting to stereoscopic 3D format. The Titanic 3D version took 60 weeks and $18 million to produce, including the 4K restoration. The 3D conversion was performed by Stereo D. Digital 2D and in 2D IMAX versions were also struck from the new 4K master created in the process. The only scene entirely redone for the re-release was Rose's view of the night sky at sea on the morning of April 15, 1912. The scene was replaced with an accurate view of the night-sky star pattern, including the Milky Way, adjusted for the location in the North Atlantic Ocean in April 1912. The change was prompted by the astrophysicist Neil deGrasse Tyson, who had criticized the unrealistic star pattern. He agreed to send Cameron a corrected view of the sky, which was the basis of the new scene.\n",
      "\n",
      "The 3D version of Titanic premiered at the Royal Albert Hall in London on March 27, 2012, with James Cameron and \n",
      "............................................................\n",
      "$1.4 million, under the agreement that Dion would wear it two nights later at the 1998 Academy Awards ceremony. This necklace has since not been made available for public viewing.\n",
      "\n",
      "\n",
      "== Soundtrack ==\n",
      "\n",
      "Cameron wrote Titanic while listening to the work of the Irish new-age musician Enya. After Enya declined an invitation to compose for the film, Cameron instead chose James Horner. The two had parted ways after a tumultuous working experience on Aliens, but Titanic cemented a successful collaboration that lasted until Horner's death. For the vocals heard throughout the film, Horner chose the Norwegian singer Sissel Kyrkjebø, commonly known as \"Sissel\". Horner knew Sissel from her album Innerst i sjelen, and particularly liked how she sang \"Eg veit i himmerik ei borg\" (\"I Know in Heaven There Is a Castle\"). He tried around 30 singers before choosing Sissel.Horner wrote the end theme, \"My Heart Will Go On\", in secret with Will Jennings because Cameron did not want any songs in the film. Céline Dion agreed to record a demo at the persuasion of her husband René Angélil. Horner waited until Cameron was in an appropriate mood before presenting him with the song. After playing it several times, Cameron declared his approval, although worried that he would have been criticized for \"going commercial at the end of the movie\". Cameron also wanted to appease anxious studio executives and \"saw that a hit song from his movie could only be a positive factor in guaranteeing its completion\".\n",
      "\n",
      "\n",
      "== Release ==\n",
      "\n",
      "\n",
      "=== Initial screening ===\n",
      "Distribution \n",
      "............................................................\n",
      "2020, a board game based on the film, titled Titanic: The Game, was released by Spin Master Games.\n",
      "\n",
      "\n",
      "== See also ==\n",
      "List of Academy Award records\n",
      "Titanic: Music from the Motion Picture\n",
      "\n",
      "\n",
      "== Notes ==\n",
      "\n",
      "\n",
      "== References ==\n",
      "\n",
      "\n",
      "== Further reading ==\n",
      "\n",
      "\n",
      "== External links ==\n",
      "\n",
      "Official website\n",
      "Titanic at IMDb\n",
      "Titanic at the TCM Movie Database\n",
      "Titanic at AllMovie\n",
      "Titanic at The Numbers\n",
      "Screenplay of Titanic at The Internet Movie Script Database\n",
      "Paramount Movies - Titanic\n",
      "YouTube video detailing model construction on YouTube\n",
      "............................................................\n",
      "had a fascination with shipwrecks, and for him Titanic was \"the Mount Everest of shipwrecks\". He was almost past the point in his life when he felt he could consider an undersea expedition, but said he still had \"a mental restlessness\" to live the life he had turned away from when he switched from the sciences to the arts in college. So when an IMAX film was made from footage shot of the wreck itself, he decided to seek Hollywood funding to \"pay for an expedition and do the same thing\". It was \"not because I particularly wanted to make the movie,\" Cameron said. \"I wanted to dive to the shipwreck.\"Cameron wrote a scriptment for a Titanic film, met with 20th Century Fox executives including Peter Chernin, and pitched it as \"Romeo and Juliet on the Titanic\". Cameron stated, \"They were like, 'Oooooohkaaaaaay – a three-hour romantic epic? Sure, that's just what we want. Is there a little bit of Terminator in that? Any Harrier jets, shoot-outs, or car chases?' I said, 'No, no, no. It's not like that.'\" The studio was dubious about the idea's commercial prospects, but, hoping for a long-term relationship with Cameron, they gave him a greenlight.Cameron convinced Fox to promote the film based on the publicity afforded by shooting the Titanic wreck itself, and organized several dives to the site over a period of two years. \"My pitch on that had to be a little more detailed,\" said Cameron. \"So I said, 'Look, we've got \n",
      "............................................................\n",
      "of times in this unbelievably badly written script that the two [lead characters] refer to each other by name was an indication of just how dramatically the script lacked anything more interesting for the actors to say.\"\n",
      "\n",
      "\n",
      "=== Retrospective ===\n",
      "According to Dalin Rowell of /Film, \"With complaints about its lengthy runtime, observations that certain characters could have easily fit onto pieces of floating furniture, and jokes about its melodramatic nature, Titanic is no stranger to modern-day criticism.\" In 2002, filmmaker Robert Altman called it \"the most dreadful piece of work I've ever seen in my entire life\". Similarly, French New Wave director and former Cahiers du Cinéma editor Jacques Rivette referred to it as \"garbage\" in a 1998 interview with Frédéric Bonnaud and was particularly critical of Winslet's performance, who he said was \"unwatchable, the most slovenly girl to appear on the screen in a long, long time.\" In 2003, the film topped a poll of \"Best Film Endings\", but it also topped a poll by Film 2003 as \"the worst movie of all time\".In his 2012 study of the lives of the passengers on the Titanic, historian Richard Davenport-Hines said, \"Cameron's film diabolized rich Americans and educated English, anathematizing their emotional restraint, good tailoring, punctilious manners and grammatical training, while it made romantic heroes of the poor Irish and the unlettered.\" The British film magazine Empire reduced their rating of the film from the maximum five stars and an enthusiastic review, to four stars with a less positive review in \n",
      "............................................................\n"
     ]
    }
   ],
   "source": [
    "for o in out:\n",
    "    if o.metadata['metadata']['score'] >=0.15:\n",
    "        print(o.page_content)\n",
    "        print('...'*20)"
   ]
  },
  {
   "cell_type": "code",
   "execution_count": null,
   "id": "5c770987",
   "metadata": {},
   "outputs": [],
   "source": []
  },
  {
   "cell_type": "code",
   "execution_count": 36,
   "id": "e61fd0d6",
   "metadata": {},
   "outputs": [
    {
     "name": "stdin",
     "output_type": "stream",
     "text": [
      "NVAPI Key (starts with nvapi-):  ······································································\n"
     ]
    }
   ],
   "source": [
    "import getpass\n",
    "import os\n",
    "\n",
    "## API Key can be found by going to NVIDIA NGC -> AI Foundation Models -> (some model) -> Get API Code or similar.\n",
    "## 10K free queries to any endpoint (which is a lot actually).\n",
    "\n",
    "# del os.environ['NVIDIA_API_KEY']  ## delete key and reset\n",
    "if os.environ.get(\"NVIDIA_API_KEY\", \"\").startswith(\"nvapi-\"):\n",
    "    print(\"Valid NVIDIA_API_KEY already in environment. Delete to reset\")\n",
    "else:\n",
    "    nvapi_key = getpass.getpass(\"NVAPI Key (starts with nvapi-): \")\n",
    "    assert nvapi_key.startswith(\"nvapi-\"), f\"{nvapi_key[:5]}... is not a valid key\"\n",
    "    os.environ[\"NVIDIA_API_KEY\"] = nvapi_key\n"
   ]
  },
  {
   "cell_type": "code",
   "execution_count": 41,
   "id": "295a6f26",
   "metadata": {},
   "outputs": [
    {
     "name": "stdout",
     "output_type": "stream",
     "text": [
      "200 <class 'int'>\n"
     ]
    },
    {
     "data": {
      "text/plain": [
       "'In the 1997 film Titanic, the research vessel is named \"AKademik Mstislav Keldysh.\" It is depicted as the ship from which the wreck of the Titanic is explored. The real-life AKademik Mstislav Keldysh is a Russian research vessel that has been involved in numerous expeditions to the actual Titanic wreckage.'"
      ]
     },
     "execution_count": 41,
     "metadata": {},
     "output_type": "execute_result"
    }
   ],
   "source": [
    "from langchain_core.output_parsers import StrOutputParser\n",
    "from langchain_core.prompts import ChatPromptTemplate\n",
    "from langchain_core.runnables import RunnablePassthrough\n",
    "from langchain.text_splitter import CharacterTextSplitter\n",
    "from langchain_nvidia_ai_endpoints import ChatNVIDIA\n",
    "\n",
    "\n",
    "prompt = ChatPromptTemplate.from_messages(\n",
    "    [\n",
    "        (\n",
    "            \"system\",\n",
    "            \"Answer solely based on the following context:\\n<Documents>\\n{context}\\n</Documents>\",\n",
    "        ),\n",
    "        (\"user\", \"{question}\"),\n",
    "    ]\n",
    ")\n",
    "\n",
    "model = ChatNVIDIA(model=\"mixtral_8x7b\")\n",
    "\n",
    "chain = (\n",
    "    {\"context\": NVretriever, \"question\": RunnablePassthrough()}\n",
    "    | prompt\n",
    "    | model\n",
    "    | StrOutputParser()\n",
    ")\n",
    "\n",
    "chain.invoke(\"In the plot of the film Titanic made in 1997, what is the name of the research vessel?\")"
   ]
  },
  {
   "cell_type": "code",
   "execution_count": null,
   "id": "a636574e",
   "metadata": {},
   "outputs": [],
   "source": []
  },
  {
   "cell_type": "code",
   "execution_count": null,
   "id": "39fb95e0",
   "metadata": {},
   "outputs": [],
   "source": []
  },
  {
   "cell_type": "code",
   "execution_count": null,
   "id": "4ef087b9",
   "metadata": {},
   "outputs": [],
   "source": []
  },
  {
   "cell_type": "code",
   "execution_count": null,
   "id": "a1e3a7e1",
   "metadata": {},
   "outputs": [],
   "source": []
  },
  {
   "cell_type": "code",
   "execution_count": null,
   "id": "10c98a55",
   "metadata": {},
   "outputs": [],
   "source": []
  },
  {
   "cell_type": "code",
   "execution_count": null,
   "id": "16ea9c69",
   "metadata": {},
   "outputs": [],
   "source": []
  },
  {
   "cell_type": "code",
   "execution_count": null,
   "id": "1a5f50d6",
   "metadata": {},
   "outputs": [],
   "source": []
  },
  {
   "cell_type": "code",
   "execution_count": null,
   "id": "379505c5",
   "metadata": {},
   "outputs": [],
   "source": []
  },
  {
   "cell_type": "code",
   "execution_count": null,
   "id": "6e3d9620",
   "metadata": {},
   "outputs": [],
   "source": []
  }
 ],
 "metadata": {
  "kernelspec": {
   "display_name": "Python 3 (ipykernel)",
   "language": "python",
   "name": "python3"
  },
  "language_info": {
   "codemirror_mode": {
    "name": "ipython",
    "version": 3
   },
   "file_extension": ".py",
   "mimetype": "text/x-python",
   "name": "python",
   "nbconvert_exporter": "python",
   "pygments_lexer": "ipython3",
   "version": "3.10.6"
  }
 },
 "nbformat": 4,
 "nbformat_minor": 5
}
